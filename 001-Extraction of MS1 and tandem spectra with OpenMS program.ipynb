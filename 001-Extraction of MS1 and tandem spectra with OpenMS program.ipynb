{
 "cells": [
  {
   "cell_type": "markdown",
   "id": "60cd1ba9-070f-4dda-9e22-1f04aafc46ff",
   "metadata": {},
   "source": [
    "# Import package"
   ]
  },
  {
   "cell_type": "code",
   "execution_count": 4,
   "id": "0ccbe105-9567-4745-85b5-5a50c2f2c9dc",
   "metadata": {},
   "outputs": [],
   "source": [
    "import pandas as pd\n",
    "import numpy as np\n",
    "import matplotlib.pyplot as plt\n",
    "import shutil,subprocess\n",
    "import os\n",
    "import subprocess\n",
    "import re\n",
    "import mzbatch\n",
    "from pyopenms import MSExperiment,MzMLFile,PeakPickerHiRes\n",
    "import time\n",
    "import pyopenms\n",
    "from pyopenms import Plotting\n",
    "import importlib as imp\n",
    "imp.reload(mzbatch)"
   ]
  },
  {
   "cell_type": "code",
   "execution_count": 1258,
   "id": "6322741c-c68d-496e-bab2-c0bec12cebb7",
   "metadata": {
    "tags": []
   },
   "outputs": [],
   "source": [
    "# Set path\n",
    "root_path = '../../Fulaoshi/230821_mzML/'\n",
    "middle_list = ['700_Amide','700_C18','873_Amide','873_C18','3545_Amide','3545_C18','BC_Amide','BC_C18']\n",
    "batch_list = ['700_Amide','700_C18','873_Amide','873_C18','3545_Amide','3545_C18','BC_Amide','BC_C18']\n",
    "out_root_path = '../../Fulaoshi/230821_mzML_res/rerun240410'"
   ]
  },
  {
   "cell_type": "markdown",
   "id": "b9a5ca4f-d687-41f7-ae7f-9fd10ffe86b9",
   "metadata": {},
   "source": [
    "# Convert raw files to mzML"
   ]
  },
  {
   "cell_type": "code",
   "execution_count": 2,
   "id": "fe39b862-27cd-478e-9a78-040550796fd7",
   "metadata": {},
   "outputs": [],
   "source": [
    "import subprocess\n",
    "\n",
    "msconvert_path = 'msconvert'\n",
    "\n",
    "for batch_path in batch_list:\n",
    "    input_file = f'{root_path}/{batch_path}/*.raw'\n",
    "\n",
    "    output_file = f'{out_root_path}/{batch_path}/'\n",
    "    \n",
    "    command = [msconvert_path, input_file, '--output', output_file]\n",
    "    \n",
    "    try:\n",
    "        result = subprocess.run(command, check=True)\n",
    "    except subprocess.CalledProcessError as e:\n",
    "        print(f\"Error: {e}\")\n",
    "    else:\n",
    "        print(\"msconvert executed successfully.\") "
   ]
  },
  {
   "cell_type": "markdown",
   "id": "6cb0c9cb-7a37-4419-a705-afe0796c83b2",
   "metadata": {},
   "source": [
    "# Process mzML files at 13 NCEs"
   ]
  },
  {
   "cell_type": "code",
   "execution_count": 1259,
   "id": "4002c27c-4986-45c3-8c5a-34fbc2754e1d",
   "metadata": {
    "tags": []
   },
   "outputs": [],
   "source": [
    "ref_all_df = pd.read_excel(\"../../Fulaoshi/230821_mzML/ref_all.xlsx\",sheet_name=\"concat\",index_col=0)\n",
    "ref_all_df['batch_sampleid'] = ref_all_df['batch']+'/'+ref_all_df['sampleid']\n",
    "ref_all_df['bscp']=ref_all_df['batch']+'+'+ref_all_df['sampleid'].astype(str)+'+'+ref_all_df['CAS No.']+'+'+ref_all_df['pos_neg']"
   ]
  },
  {
   "cell_type": "code",
   "execution_count": 1260,
   "id": "136e6a90-c531-4dec-b1c7-88b5e07d6fd5",
   "metadata": {
    "tags": []
   },
   "outputs": [
    {
     "data": {
      "text/html": [
       "<div>\n",
       "<style scoped>\n",
       "    .dataframe tbody tr th:only-of-type {\n",
       "        vertical-align: middle;\n",
       "    }\n",
       "\n",
       "    .dataframe tbody tr th {\n",
       "        vertical-align: top;\n",
       "    }\n",
       "\n",
       "    .dataframe thead th {\n",
       "        text-align: right;\n",
       "    }\n",
       "</style>\n",
       "<table border=\"1\" class=\"dataframe\">\n",
       "  <thead>\n",
       "    <tr style=\"text-align: right;\">\n",
       "      <th></th>\n",
       "      <th>batch</th>\n",
       "      <th>sepuzhu</th>\n",
       "      <th>sampleid</th>\n",
       "      <th>Product Name</th>\n",
       "      <th>CAS No.</th>\n",
       "      <th>Formula</th>\n",
       "      <th>M.Wt</th>\n",
       "      <th>pos_neg</th>\n",
       "      <th>refer_RT</th>\n",
       "      <th>m/z</th>\n",
       "      <th>RT time</th>\n",
       "      <th>NL</th>\n",
       "      <th>bscp</th>\n",
       "      <th>Adduct</th>\n",
       "      <th>batch_sampleid</th>\n",
       "    </tr>\n",
       "  </thead>\n",
       "  <tbody>\n",
       "    <tr>\n",
       "      <th>0</th>\n",
       "      <td>873_Amide</td>\n",
       "      <td>Amide</td>\n",
       "      <td>26386</td>\n",
       "      <td>N6-Methyladenosine</td>\n",
       "      <td>1867-73-8</td>\n",
       "      <td>C11H15N5O4</td>\n",
       "      <td>281.27</td>\n",
       "      <td>pos</td>\n",
       "      <td>1</td>\n",
       "      <td>282.11960</td>\n",
       "      <td>196.2</td>\n",
       "      <td>117000000</td>\n",
       "      <td>873_Amide+26386+1867-73-8+pos</td>\n",
       "      <td>[M+H]+</td>\n",
       "      <td>873_Amide/26386</td>\n",
       "    </tr>\n",
       "    <tr>\n",
       "      <th>1</th>\n",
       "      <td>873_Amide</td>\n",
       "      <td>Amide</td>\n",
       "      <td>26386</td>\n",
       "      <td>N6-Methyladenosine</td>\n",
       "      <td>1867-73-8</td>\n",
       "      <td>C11H15N5O4</td>\n",
       "      <td>281.27</td>\n",
       "      <td>neg</td>\n",
       "      <td>1</td>\n",
       "      <td>280.10512</td>\n",
       "      <td>206.4</td>\n",
       "      <td>8250000</td>\n",
       "      <td>873_Amide+26386+1867-73-8+neg</td>\n",
       "      <td>[M-H]-</td>\n",
       "      <td>873_Amide/26386</td>\n",
       "    </tr>\n",
       "    <tr>\n",
       "      <th>2</th>\n",
       "      <td>873_Amide</td>\n",
       "      <td>Amide</td>\n",
       "      <td>26386</td>\n",
       "      <td>Corticosterone</td>\n",
       "      <td>50-22-6</td>\n",
       "      <td>C21H30O4</td>\n",
       "      <td>346.46</td>\n",
       "      <td>pos</td>\n",
       "      <td>1</td>\n",
       "      <td>347.22160</td>\n",
       "      <td>63.6</td>\n",
       "      <td>25400000</td>\n",
       "      <td>873_Amide+26386+50-22-6+pos</td>\n",
       "      <td>[M+H]+</td>\n",
       "      <td>873_Amide/26386</td>\n",
       "    </tr>\n",
       "    <tr>\n",
       "      <th>3</th>\n",
       "      <td>873_Amide</td>\n",
       "      <td>Amide</td>\n",
       "      <td>26386</td>\n",
       "      <td>Corticosterone</td>\n",
       "      <td>50-22-6</td>\n",
       "      <td>C21H30O4</td>\n",
       "      <td>346.46</td>\n",
       "      <td>neg</td>\n",
       "      <td>1</td>\n",
       "      <td>345.20713</td>\n",
       "      <td>63.6</td>\n",
       "      <td>3360000</td>\n",
       "      <td>873_Amide+26386+50-22-6+neg</td>\n",
       "      <td>[M-H]-</td>\n",
       "      <td>873_Amide/26386</td>\n",
       "    </tr>\n",
       "    <tr>\n",
       "      <th>4</th>\n",
       "      <td>873_Amide</td>\n",
       "      <td>Amide</td>\n",
       "      <td>26386</td>\n",
       "      <td>Hexylresorcinol</td>\n",
       "      <td>136-77-6</td>\n",
       "      <td>C12H18O2</td>\n",
       "      <td>194.27</td>\n",
       "      <td>neg</td>\n",
       "      <td>1</td>\n",
       "      <td>193.12340</td>\n",
       "      <td>57.0</td>\n",
       "      <td>27500000</td>\n",
       "      <td>873_Amide+26386+136-77-6+neg</td>\n",
       "      <td>[M-H]-</td>\n",
       "      <td>873_Amide/26386</td>\n",
       "    </tr>\n",
       "  </tbody>\n",
       "</table>\n",
       "</div>"
      ],
      "text/plain": [
       "       batch sepuzhu sampleid        Product Name    CAS No.     Formula  \\\n",
       "0  873_Amide   Amide    26386  N6-Methyladenosine  1867-73-8  C11H15N5O4   \n",
       "1  873_Amide   Amide    26386  N6-Methyladenosine  1867-73-8  C11H15N5O4   \n",
       "2  873_Amide   Amide    26386      Corticosterone    50-22-6    C21H30O4   \n",
       "3  873_Amide   Amide    26386      Corticosterone    50-22-6    C21H30O4   \n",
       "4  873_Amide   Amide    26386     Hexylresorcinol   136-77-6    C12H18O2   \n",
       "\n",
       "     M.Wt pos_neg  refer_RT        m/z  RT time         NL  \\\n",
       "0  281.27     pos         1  282.11960    196.2  117000000   \n",
       "1  281.27     neg         1  280.10512    206.4    8250000   \n",
       "2  346.46     pos         1  347.22160     63.6   25400000   \n",
       "3  346.46     neg         1  345.20713     63.6    3360000   \n",
       "4  194.27     neg         1  193.12340     57.0   27500000   \n",
       "\n",
       "                            bscp  Adduct   batch_sampleid  \n",
       "0  873_Amide+26386+1867-73-8+pos  [M+H]+  873_Amide/26386  \n",
       "1  873_Amide+26386+1867-73-8+neg  [M-H]-  873_Amide/26386  \n",
       "2    873_Amide+26386+50-22-6+pos  [M+H]+  873_Amide/26386  \n",
       "3    873_Amide+26386+50-22-6+neg  [M-H]-  873_Amide/26386  \n",
       "4   873_Amide+26386+136-77-6+neg  [M-H]-  873_Amide/26386  "
      ]
     },
     "execution_count": 1260,
     "metadata": {},
     "output_type": "execute_result"
    }
   ],
   "source": [
    "ref_all_df.head()"
   ]
  },
  {
   "cell_type": "code",
   "execution_count": 1261,
   "id": "51b7bf9f-ef77-457d-a707-8e6b16896727",
   "metadata": {
    "tags": []
   },
   "outputs": [
    {
     "data": {
      "text/plain": [
       "(['873_Amide/26386',\n",
       "  'BC_Amide/S109',\n",
       "  'BC_Amide/S111',\n",
       "  '873_Amide/26387',\n",
       "  '873_Amide/26388'],\n",
       " (348,))"
      ]
     },
     "execution_count": 1261,
     "metadata": {},
     "output_type": "execute_result"
    }
   ],
   "source": [
    "batch_sampleid_list = ref_all_df['batch_sampleid'].unique().tolist()\n",
    "batch_sampleid_list[0:5],ref_all_df['batch_sampleid'].unique().shape"
   ]
  },
  {
   "cell_type": "code",
   "execution_count": 1262,
   "id": "11cfceec-af5d-4e78-b63e-bc6d719cf7c8",
   "metadata": {
    "tags": []
   },
   "outputs": [
    {
     "data": {
      "text/plain": [
       "\"['26386-NCE1-pos', '26386-NCE1-neg', '26386-NCE10-pos', '26386-NCE10-neg', '26386-NCE100-pos', '26386-NCE100-neg', '26386-NCE15-pos', '26386-NCE15-neg', '26386-NCE20-pos', '26386-NCE20-neg', '26386-NCE25-pos', '26386-NCE25-neg', '26386-NCE30-pos', '26386-NCE30-neg', '26386-NCE35-pos', '26386-NCE35-neg', '26386-NCE40-pos', '26386-NCE40-neg', '26386-NCE50-pos', '26386-NCE50-neg', '26386-NCE60-pos', '26386-NCE60-neg', '26386-NCE70-pos', '26386-NCE70-neg', '26386-NCE80-pos', '26386-NCE80-neg']\""
      ]
     },
     "execution_count": 1262,
     "metadata": {},
     "output_type": "execute_result"
    }
   ],
   "source": [
    "def get_filename_list(filepre_list):\n",
    "    filename_list = []\n",
    "    ev_list = ['1', '10', '100', '15', '20', '25', '30', '35', '40', '50', '60','70', '80']\n",
    "    for filepre in filepre_list:\n",
    "        for ev in ev_list:\n",
    "            for tail in ['pos','neg']:\n",
    "                filename_list.append(f'{filepre}-NCE{ev}-{tail}')\n",
    "    return filename_list\n",
    "filename_list = get_filename_list(['26386'])\n",
    "str(filename_list)"
   ]
  },
  {
   "cell_type": "code",
   "execution_count": null,
   "id": "e4aeb57a-4e05-41ee-988e-e37c88c0bdf3",
   "metadata": {
    "tags": []
   },
   "outputs": [
    {
     "name": "stdout",
     "output_type": "stream",
     "text": [
      "路径: 700_Amide/S90 S90 ../../Fulaoshi/230821_mzML//700_Amide/NCE_pkl/S90\n",
      "输入文件： ../../Fulaoshi/230821_mzML//700_Amide/NCE2/S90/S90-NCE1-pos.mzML\n",
      "输入文件： ../../Fulaoshi/230821_mzML//700_Amide/NCE2/S90/S90-NCE1-neg.mzML\n",
      "输入文件： ../../Fulaoshi/230821_mzML//700_Amide/NCE2/S90/S90-NCE10-pos.mzML\n",
      "输入文件： ../../Fulaoshi/230821_mzML//700_Amide/NCE2/S90/S90-NCE10-neg.mzML\n",
      "输入文件： ../../Fulaoshi/230821_mzML//700_Amide/NCE2/S90/S90-NCE100-pos.mzML\n",
      "输入文件： ../../Fulaoshi/230821_mzML//700_Amide/NCE2/S90/S90-NCE100-neg.mzML\n",
      "输入文件： ../../Fulaoshi/230821_mzML//700_Amide/NCE2/S90/S90-NCE15-pos.mzML\n",
      "输入文件： ../../Fulaoshi/230821_mzML//700_Amide/NCE2/S90/S90-NCE15-neg.mzML\n",
      "输入文件： ../../Fulaoshi/230821_mzML//700_Amide/NCE2/S90/S90-NCE20-pos.mzML\n",
      "输入文件： ../../Fulaoshi/230821_mzML//700_Amide/NCE2/S90/S90-NCE20-neg.mzML\n",
      "输入文件： ../../Fulaoshi/230821_mzML//700_Amide/NCE2/S90/S90-NCE25-pos.mzML\n",
      "输入文件： ../../Fulaoshi/230821_mzML//700_Amide/NCE2/S90/S90-NCE25-neg.mzML\n",
      "输入文件： ../../Fulaoshi/230821_mzML//700_Amide/NCE2/S90/S90-NCE30-pos.mzML\n",
      "输入文件： ../../Fulaoshi/230821_mzML//700_Amide/NCE2/S90/S90-NCE30-neg.mzML\n",
      "输入文件： ../../Fulaoshi/230821_mzML//700_Amide/NCE2/S90/S90-NCE35-pos.mzML\n",
      "输入文件： ../../Fulaoshi/230821_mzML//700_Amide/NCE2/S90/S90-NCE35-neg.mzML\n",
      "输入文件： ../../Fulaoshi/230821_mzML//700_Amide/NCE2/S90/S90-NCE40-pos.mzML\n",
      "输入文件： ../../Fulaoshi/230821_mzML//700_Amide/NCE2/S90/S90-NCE40-neg.mzML\n",
      "输入文件： ../../Fulaoshi/230821_mzML//700_Amide/NCE2/S90/S90-NCE50-pos.mzML\n",
      "输入文件： ../../Fulaoshi/230821_mzML//700_Amide/NCE2/S90/S90-NCE50-neg.mzML\n",
      "输入文件： ../../Fulaoshi/230821_mzML//700_Amide/NCE2/S90/S90-NCE60-pos.mzML\n",
      "输入文件： ../../Fulaoshi/230821_mzML//700_Amide/NCE2/S90/S90-NCE60-neg.mzML\n",
      "输入文件： ../../Fulaoshi/230821_mzML//700_Amide/NCE2/S90/S90-NCE70-pos.mzML\n",
      "输入文件： ../../Fulaoshi/230821_mzML//700_Amide/NCE2/S90/S90-NCE70-neg.mzML\n",
      "输入文件： ../../Fulaoshi/230821_mzML//700_Amide/NCE2/S90/S90-NCE80-pos.mzML\n",
      "输入文件： ../../Fulaoshi/230821_mzML//700_Amide/NCE2/S90/S90-NCE80-neg.mzML\n"
     ]
    }
   ],
   "source": [
    "for batch_sampleid in batch_sampleid_list[320:321]:\n",
    "    bs_temp_df = ref_all_df[ref_all_df['batch_sampleid']==batch_sampleid]\n",
    "    batch,sampleid = bs_temp_df.iloc[0,[0,2]]\n",
    "    \n",
    "    filename_list = get_filename_list([sampleid])\n",
    "    \n",
    "    pkl_root_path = f'{root_path}/{batch}/NCE_pkl/{sampleid}'\n",
    "    if not os.path.exists(pkl_root_path):\n",
    "        os.makedirs(pkl_root_path)\n",
    "        \n",
    "    compound_root_path = f'{out_root_path}/{batch}/NCE_compound/{sampleid}'\n",
    "    if not os.path.exists(compound_root_path):\n",
    "        os.makedirs(compound_root_path)\n",
    "        \n",
    "    log_record = pd.DataFrame(columns=['MS1_2dict_file','MS1_file','explain','refer_rt','limit_range'])\n",
    "        \n",
    "    print('Path:',batch_sampleid, sampleid, pkl_root_path)\n",
    "    \n",
    "    for filename in filename_list:\n",
    "        filename_split_gang = filename.split('-') #['S1', 'NCE1', 'pos']\n",
    "        pos_neg = filename_split_gang[2]\n",
    "        ev = filename_split_gang[1]\n",
    "        # print(pos_neg,ev)\n",
    "\n",
    "        infile=f'{root_path}/{batch}/NCE2/{sampleid}/{filename}.mzML' #'../../Fulaoshi/230602_mzML/NCE2/S1/S1-NCE1-pos.mzML'\n",
    "        print(\"input file：\",infile)\n",
    "        if not os.path.exists(infile):\n",
    "            print('no this input file, continue ',infile)\n",
    "            continue\n",
    "\n",
    "        tic_pkl =f'{pkl_root_path}/{filename}.pkl' #'../../Fulaoshi/230602_mzML/NCE_pkl/S1/S1-NCE1-pos.pkl'\n",
    "        tic_list=mzbatch.get_TIC_from_File(infile,tic_pkl)\n",
    "        tic_df = pd.DataFrame(tic_list,columns=['ID','RT','Polarity','MSlevel','MS1_id','MS1_RT','pecursor'])\n",
    "        tic_MS1_df = tic_df[tic_df['MSlevel'] == 1]\n",
    "        tic_MS2_df = tic_df[tic_df['MSlevel'] == 2]\n",
    "        \n",
    "        temp_df = bs_temp_df[bs_temp_df[\"pos_neg\"]==pos_neg]\n",
    "\n",
    "        MS1_2dict_file=f'{pkl_root_path}/{filename}_MS1_2dict.pkl'\n",
    "        MS1_2dict = mzbatch.make_MS1_data(tic_list,temp_df,tic_MS1_df,pos_neg,MS1_2dict_file)\n",
    "        \n",
    "        for temp_index in temp_df.index:\n",
    "            compound_cas = temp_df.loc[temp_index,'CAS No.'] #1867-73-8\n",
    "            mz = temp_df.loc[temp_index,'m/z']\n",
    "            refer_rt = temp_df.loc[temp_index,'RT time']\n",
    "            refer_rt_valid = temp_df.loc[temp_index,'refer_RT']\n",
    "            # print(compound_cas, mz, refer_rt, refer_rt_valid)\n",
    "            \n",
    "            if (np.isnan(refer_rt) | np.isnan(mz)):\n",
    "                # print(compound_cas, mz, refer_rt)\n",
    "                continue\n",
    "            if refer_rt_valid == -1:\n",
    "                refer_rt = -1\n",
    "                \n",
    "            compound_folder = f'{compound_cas}_{ev}_{pos_neg}' #83207-58-3_NCE1_neg\n",
    "            compound_folderpath = f'{compound_root_path}/{compound_folder}'\n",
    "            if mzbatch.dir_is_exist(compound_folderpath):\n",
    "                MS1_file = '{}/{}_MS1.csv'.format(compound_folderpath,compound_folder)\n",
    "\n",
    "                MS1_data=MS1_2dict[compound_cas]\n",
    "                pd.DataFrame(MS1_data).to_csv(MS1_file)\n",
    "\n",
    "                [lower_limit_rt,upper_limit_rt],explain = mzbatch.get_rt_limit(MS1_data['rt'],MS1_data['intensity'],refer_rt)\n",
    "                log_temp = pd.DataFrame({'MS1_2dict_file':[MS1_2dict_file],\n",
    "                          'MS1_file':[MS1_file],'explain':[explain],\n",
    "                          'refer_rt':[refer_rt],'limit_range':str([lower_limit_rt,upper_limit_rt])\n",
    "                         })\n",
    "                log_record = pd.concat([log_record, log_temp],ignore_index=True)\n",
    "\n",
    "                if [lower_limit_rt,upper_limit_rt]==[-1,-1]:\n",
    "                    continue\n",
    "                temp_tic_MS2_df = tic_MS2_df[tic_MS2_df['pecursor'].apply(lambda x: mzbatch.less_5ppm(mzbatch.cal_ppm(mz,x)))]\n",
    "                temp_tic_MS2_df = temp_tic_MS2_df[ (temp_tic_MS2_df['RT']>=lower_limit_rt) & (temp_tic_MS2_df['RT']<=upper_limit_rt) ]\n",
    "                for temp_tic_MS2_index in temp_tic_MS2_df.index:\n",
    "                    tic_ID = temp_tic_MS2_df.loc[temp_tic_MS2_index,'ID'] \n",
    "                    tic_RT = round(temp_tic_MS2_df.loc[temp_tic_MS2_index,'RT'],2)\n",
    "                    MS2_file = '{}/{}_MS2_{}_{}.csv'.format(compound_folderpath,compound_folder,tic_ID,tic_RT)\n",
    "                    \n",
    "                    mz_uplimit = mzbatch.get_mz_uplimit(mz)\n",
    "                    one_MS2_df = pd.DataFrame(tic_list[temp_tic_MS2_index]['peaks'],columns=['Mass','Intensity'])\n",
    "                    one_MS2_df = one_MS2_df[one_MS2_df['Mass']<=mz_uplimit]\n",
    "                    one_MS2_df.to_csv(MS2_file)\n"
   ]
  },
  {
   "cell_type": "markdown",
   "id": "ad9394de-4f78-4b1e-90c0-de8159701dea",
   "metadata": {},
   "source": [
    "# Process mzML files at NCE 204060"
   ]
  },
  {
   "cell_type": "code",
   "execution_count": null,
   "id": "cb2de8b5-7ed9-42d6-93ce-3489ef5e7b52",
   "metadata": {
    "tags": []
   },
   "outputs": [
    {
     "data": {
      "text/html": [
       "<div>\n",
       "<style scoped>\n",
       "    .dataframe tbody tr th:only-of-type {\n",
       "        vertical-align: middle;\n",
       "    }\n",
       "\n",
       "    .dataframe tbody tr th {\n",
       "        vertical-align: top;\n",
       "    }\n",
       "\n",
       "    .dataframe thead th {\n",
       "        text-align: right;\n",
       "    }\n",
       "</style>\n",
       "<table border=\"1\" class=\"dataframe\">\n",
       "  <thead>\n",
       "    <tr style=\"text-align: right;\">\n",
       "      <th></th>\n",
       "      <th>batch</th>\n",
       "      <th>sepuzhu</th>\n",
       "      <th>sampleid</th>\n",
       "      <th>Product Name</th>\n",
       "      <th>CAS No.</th>\n",
       "      <th>Formula</th>\n",
       "      <th>M.Wt</th>\n",
       "      <th>pos_neg</th>\n",
       "      <th>refer_RT</th>\n",
       "      <th>m/z</th>\n",
       "      <th>RT time</th>\n",
       "      <th>NL</th>\n",
       "      <th>bscp</th>\n",
       "      <th>batch_sampleid</th>\n",
       "    </tr>\n",
       "  </thead>\n",
       "  <tbody>\n",
       "    <tr>\n",
       "      <th>0</th>\n",
       "      <td>873_Amide</td>\n",
       "      <td>Amide</td>\n",
       "      <td>26386</td>\n",
       "      <td>N6-Methyladenosine</td>\n",
       "      <td>1867-73-8</td>\n",
       "      <td>C11H15N5O4</td>\n",
       "      <td>281.27</td>\n",
       "      <td>pos</td>\n",
       "      <td>1</td>\n",
       "      <td>282.11960</td>\n",
       "      <td>196.2</td>\n",
       "      <td>117000000</td>\n",
       "      <td>873_Amide+26386+1867-73-8+pos</td>\n",
       "      <td>873_Amide/26386</td>\n",
       "    </tr>\n",
       "    <tr>\n",
       "      <th>1</th>\n",
       "      <td>873_Amide</td>\n",
       "      <td>Amide</td>\n",
       "      <td>26386</td>\n",
       "      <td>N6-Methyladenosine</td>\n",
       "      <td>1867-73-8</td>\n",
       "      <td>C11H15N5O4</td>\n",
       "      <td>281.27</td>\n",
       "      <td>neg</td>\n",
       "      <td>1</td>\n",
       "      <td>280.10512</td>\n",
       "      <td>206.4</td>\n",
       "      <td>8250000</td>\n",
       "      <td>873_Amide+26386+1867-73-8+neg</td>\n",
       "      <td>873_Amide/26386</td>\n",
       "    </tr>\n",
       "    <tr>\n",
       "      <th>2</th>\n",
       "      <td>873_Amide</td>\n",
       "      <td>Amide</td>\n",
       "      <td>26386</td>\n",
       "      <td>Corticosterone</td>\n",
       "      <td>50-22-6</td>\n",
       "      <td>C21H30O4</td>\n",
       "      <td>346.46</td>\n",
       "      <td>pos</td>\n",
       "      <td>1</td>\n",
       "      <td>347.22160</td>\n",
       "      <td>63.6</td>\n",
       "      <td>25400000</td>\n",
       "      <td>873_Amide+26386+50-22-6+pos</td>\n",
       "      <td>873_Amide/26386</td>\n",
       "    </tr>\n",
       "    <tr>\n",
       "      <th>3</th>\n",
       "      <td>873_Amide</td>\n",
       "      <td>Amide</td>\n",
       "      <td>26386</td>\n",
       "      <td>Corticosterone</td>\n",
       "      <td>50-22-6</td>\n",
       "      <td>C21H30O4</td>\n",
       "      <td>346.46</td>\n",
       "      <td>neg</td>\n",
       "      <td>1</td>\n",
       "      <td>345.20713</td>\n",
       "      <td>63.6</td>\n",
       "      <td>3360000</td>\n",
       "      <td>873_Amide+26386+50-22-6+neg</td>\n",
       "      <td>873_Amide/26386</td>\n",
       "    </tr>\n",
       "    <tr>\n",
       "      <th>4</th>\n",
       "      <td>873_Amide</td>\n",
       "      <td>Amide</td>\n",
       "      <td>26386</td>\n",
       "      <td>Hexylresorcinol</td>\n",
       "      <td>136-77-6</td>\n",
       "      <td>C12H18O2</td>\n",
       "      <td>194.27</td>\n",
       "      <td>neg</td>\n",
       "      <td>1</td>\n",
       "      <td>193.12340</td>\n",
       "      <td>57.0</td>\n",
       "      <td>27500000</td>\n",
       "      <td>873_Amide+26386+136-77-6+neg</td>\n",
       "      <td>873_Amide/26386</td>\n",
       "    </tr>\n",
       "  </tbody>\n",
       "</table>\n",
       "</div>"
      ],
      "text/plain": [
       "       batch sepuzhu sampleid        Product Name    CAS No.     Formula  \\\n",
       "0  873_Amide   Amide    26386  N6-Methyladenosine  1867-73-8  C11H15N5O4   \n",
       "1  873_Amide   Amide    26386  N6-Methyladenosine  1867-73-8  C11H15N5O4   \n",
       "2  873_Amide   Amide    26386      Corticosterone    50-22-6    C21H30O4   \n",
       "3  873_Amide   Amide    26386      Corticosterone    50-22-6    C21H30O4   \n",
       "4  873_Amide   Amide    26386     Hexylresorcinol   136-77-6    C12H18O2   \n",
       "\n",
       "     M.Wt pos_neg  refer_RT        m/z  RT time         NL  \\\n",
       "0  281.27     pos         1  282.11960    196.2  117000000   \n",
       "1  281.27     neg         1  280.10512    206.4    8250000   \n",
       "2  346.46     pos         1  347.22160     63.6   25400000   \n",
       "3  346.46     neg         1  345.20713     63.6    3360000   \n",
       "4  194.27     neg         1  193.12340     57.0   27500000   \n",
       "\n",
       "                            bscp   batch_sampleid  \n",
       "0  873_Amide+26386+1867-73-8+pos  873_Amide/26386  \n",
       "1  873_Amide+26386+1867-73-8+neg  873_Amide/26386  \n",
       "2    873_Amide+26386+50-22-6+pos  873_Amide/26386  \n",
       "3    873_Amide+26386+50-22-6+neg  873_Amide/26386  \n",
       "4   873_Amide+26386+136-77-6+neg  873_Amide/26386  "
      ]
     },
     "execution_count": 330,
     "metadata": {},
     "output_type": "execute_result"
    }
   ],
   "source": [
    "# Read reference data\n",
    "ref_all_df = pd.read_excel(\"../../Fulaoshi/230821_mzML/ref_all.xlsx\", sheet_name=\"third_1min\", index_col=0)\n",
    "ref_all_df['batch_sampleid'] = ref_all_df['batch'] + '/' + ref_all_df['sampleid']\n",
    "ref_all_df.head()"
   ]
  },
  {
   "cell_type": "markdown",
   "id": "e78ef1aa-8c97-4c54-9e3e-4dfe6549c6d2",
   "metadata": {},
   "source": [
    "## Data correction"
   ]
  },
  {
   "cell_type": "code",
   "execution_count": null,
   "id": "e4e31329-b574-4cad-bcf2-2bb96947be51",
   "metadata": {
    "tags": []
   },
   "outputs": [
    {
     "name": "stdout",
     "output_type": "stream",
     "text": [
      "sampleid没有 ../../Fulaoshi/230821_mzML/204060//873_C18/NCE 2_12-NCE204060-neg.mzML\n",
      "sampleid没有 ../../Fulaoshi/230821_mzML/204060//873_C18/NCE 37-NCE204060-neg.mzML\n"
     ]
    }
   ],
   "source": [
    "mzML_path_list = [f'{root_path}/{batch}/NCE' for batch in batch_list]\n",
    "for mzML_path in mzML_path_list:\n",
    "    file_list = os.listdir(mzML_path)\n",
    "    for filename in file_list:\n",
    "        # S100-NCE204060-neg.mzML\n",
    "        file_split_gang = filename[:-5].split('-')\n",
    "        # 1. The name can only have 2 dashes\n",
    "        if len(file_split_gang) != 3:\n",
    "            print(\"two '-' \", mzML_path, filename)\n",
    "        # 2. sampleid must exist in ref_all\n",
    "        if file_split_gang[0] not in sampleid_list:\n",
    "            print(\"no sampleid\", mzML_path, filename)\n",
    "        # 3. Energy must be preceded by NCE\n",
    "        if not file_split_gang[1].startswith('NCE'):\n",
    "            print(\"no NCE\", mzML_path, filename)\n",
    "        # break\n",
    "    # break\n"
   ]
  },
  {
   "cell_type": "code",
   "execution_count": null,
   "id": "0a4b5806-d4aa-4c47-ae00-f0bfb6f65558",
   "metadata": {
    "tags": []
   },
   "outputs": [
    {
     "name": "stdout",
     "output_type": "stream",
     "text": [
      "348\n"
     ]
    },
    {
     "data": {
      "text/plain": [
       "['873_Amide/26386',\n",
       " 'BC_Amide/S109',\n",
       " 'BC_Amide/S111',\n",
       " '873_Amide/26387',\n",
       " '873_Amide/26388']"
      ]
     },
     "execution_count": 336,
     "metadata": {},
     "output_type": "execute_result"
    }
   ],
   "source": [
    "# Unique batch_sampleid_list\n",
    "batch_sampleid_list = ref_all_df['batch_sampleid'].unique().tolist()\n",
    "print(len(batch_sampleid_list))\n",
    "batch_sampleid_list[0:5]\n"
   ]
  },
  {
   "cell_type": "code",
   "execution_count": null,
   "id": "2fcdf111-307b-435e-9c4d-f1d13b2272a8",
   "metadata": {
    "tags": []
   },
   "outputs": [
    {
     "data": {
      "text/plain": [
       "\"['26386-NCE204060-pos', '26386-NCE204060-neg']\""
      ]
     },
     "execution_count": 337,
     "metadata": {},
     "output_type": "execute_result"
    }
   ],
   "source": [
    "# Generate sampleid file list\n",
    "def get_filename_list(filepre_list):\n",
    "    filename_list = []\n",
    "    ev_list = ['204060']\n",
    "    for filepre in filepre_list:\n",
    "        for ev in ev_list:\n",
    "            for tail in ['pos', 'neg']:\n",
    "                filename_list.append(f'{filepre}-NCE{ev}-{tail}')\n",
    "    return filename_list\n",
    "\n",
    "filename_list = get_filename_list(['26386'])\n",
    "str(filename_list)\n"
   ]
  },
  {
   "cell_type": "code",
   "execution_count": null,
   "id": "0f2e56ee-bd9b-4114-8a0e-ea6b44c41a58",
   "metadata": {
    "tags": []
   },
   "outputs": [
    {
     "name": "stdout",
     "output_type": "stream",
     "text": [
      "路径: 700_Amide/S90 S90 ../../Fulaoshi/230821_mzML/204060//700_Amide/NCE_pkl/S90\n"
     ]
    }
   ],
   "source": [
    "# Locate an mzML file using batch and sampleid\n",
    "for batch_sampleid in batch_sampleid_list[320:321]:\n",
    "    bs_temp_df = ref_all_df[ref_all_df['batch_sampleid'] == batch_sampleid]\n",
    "    batch, sampleid = bs_temp_df.iloc[0, [0, 2]]\n",
    "    \n",
    "    # Generate filenames for positive/negative and energy based on sampleid\n",
    "    filename_list = get_filename_list([sampleid])\n",
    "    \n",
    "    pkl_root_path = f'{root_path}/{batch}/NCE_pkl/{sampleid}'\n",
    "    if not os.path.exists(pkl_root_path):\n",
    "        os.makedirs(pkl_root_path)\n",
    "        \n",
    "    compound_root_path = f'{out_root_path}/{batch}/NCE_compound/{sampleid}'\n",
    "    if not os.path.exists(compound_root_path):\n",
    "        os.makedirs(compound_root_path)\n",
    "        \n",
    "    log_record = pd.DataFrame(columns=['MS1_2dict_file', 'MS1_file', 'explain', 'refer_rt', 'limit_range'])\n",
    "        \n",
    "    print('pathway:', batch_sampleid, sampleid, pkl_root_path)\n",
    "    \n",
    "    for filename in filename_list:\n",
    "        filename_split_gang = filename.split('-')  # ['S1', 'NCE1', 'pos']\n",
    "        pos_neg = filename_split_gang[2]\n",
    "        ev = filename_split_gang[1]\n",
    "        \n",
    "        infile = f'{root_path}/{batch}/NCE/{filename}.mzML'  # '../../Fulaoshi/230602_mzML/NCE2/S1/S1-NCE1-pos.mzML'\n",
    "        if not os.path.exists(infile):\n",
    "            print('Input file not found, skipping ', infile)\n",
    "            continue\n",
    "\n",
    "        tic_pkl = f'{pkl_root_path}/{filename}.pkl'  # '../../Fulaoshi/230602_mzML/NCE_pkl/S1/S1-NCE1-pos.pkl'\n",
    "        tic_list = mzbatch.get_TIC_from_File(infile, tic_pkl)\n",
    "        tic_df = pd.DataFrame(tic_list, columns=['ID', 'RT', 'Polarity', 'MSlevel', 'MS1_id', 'MS1_RT', 'pecursor'])\n",
    "        tic_MS1_df = tic_df[tic_df['MSlevel'] == 1]\n",
    "        tic_MS2_df = tic_df[tic_df['MSlevel'] == 2]\n",
    "\n",
    "        temp_df = bs_temp_df[bs_temp_df[\"pos_neg\"] == pos_neg]\n",
    "        \n",
    "        MS1_2dict_file = f'{pkl_root_path}/{filename}_MS1_2dict.pkl'\n",
    "        MS1_2dict = mzbatch.make_MS1_data(tic_list, temp_df, tic_MS1_df, pos_neg, MS1_2dict_file)\n",
    "        \n",
    "        for temp_index in temp_df.index:\n",
    "            compound_cas = temp_df.loc[temp_index, 'CAS No.']  # 1867-73-8\n",
    "            mz = temp_df.loc[temp_index, 'm/z']\n",
    "            refer_rt = temp_df.loc[temp_index, 'RT time']\n",
    "            refer_rt_valid = temp_df.loc[temp_index, 'refer_RT']\n",
    "            \n",
    "            if (np.isnan(refer_rt) | np.isnan(mz)):\n",
    "                continue\n",
    "            if refer_rt_valid == -1:\n",
    "                refer_rt = -1\n",
    "                \n",
    "            compound_folder = f'{compound_cas}_{ev}_{pos_neg}'  # 83207-58-3_NCE1_neg\n",
    "            compound_folderpath = f'{compound_root_path}/{compound_folder}'\n",
    "            if mzbatch.dir_is_exist(compound_folderpath):\n",
    "                MS1_file = '{}/{}_MS1.csv'.format(compound_folderpath, compound_folder)\n",
    "\n",
    "                MS1_data = MS1_2dict[compound_cas]\n",
    "                pd.DataFrame(MS1_data).to_csv(MS1_file)\n",
    "\n",
    "                [lower_limit_rt, upper_limit_rt], explain = mzbatch.get_rt_limit(MS1_data['rt'], MS1_data['intensity'], refer_rt)\n",
    "                log_temp = pd.DataFrame({'MS1_2dict_file': [MS1_2dict_file],\n",
    "                                          'MS1_file': [MS1_file], 'explain': [explain],\n",
    "                                          'refer_rt': [refer_rt], 'limit_range': str([lower_limit_rt, upper_limit_rt])})\n",
    "                log_record = pd.concat([log_record, log_temp], ignore_index=True)\n",
    "\n",
    "                if [lower_limit_rt, upper_limit_rt] == [-1, -1]:\n",
    "                    continue\n",
    "                temp_tic_MS2_df = tic_MS2_df[tic_MS2_df['pecursor'].apply(lambda x: mzbatch.less_5ppm(mzbatch.cal_ppm(mz, x)))]\n",
    "                temp_tic_MS2_df = temp_tic_MS2_df[(temp_tic_MS2_df['RT'] >= lower_limit_rt) & (temp_tic_MS2_df['RT'] <= upper_limit_rt)]\n",
    "                for temp_tic_MS2_index in temp_tic_MS2_df.index:\n",
    "                    tic_ID = temp_tic_MS2_df.loc[temp_tic_MS2_index, 'ID']  # ID from the df, starting from 1\n",
    "                    tic_RT = round(temp_tic_MS2_df.loc[temp_tic_MS2_index, 'RT'], 2)\n",
    "                    MS2_file = '{}/{}_MS2_{}_{}.csv'.format(compound_folderpath, compound_folder, tic_ID, tic_RT)\n",
    "                    pd.DataFrame(tic_list[temp_tic_MS2_index]['peaks'], columns=['Mass', 'Intensity']).to_csv(MS2_file)\n",
    "\n",
    "    log_record_path = f'{out_root_path}/{batch}/NCE_log_record'\n",
    "    if not os.path.exists(log_record_path):\n",
    "        os.makedirs(log_record_path)\n",
    "    while True:\n",
    "        if os.path.exists(log_record_path):\n",
    "            break\n",
    "    log_record.to_csv(f'{log_record_path}/log_record_{sampleid}.csv')\n"
   ]
  },
  {
   "cell_type": "markdown",
   "id": "0ec07723-cc8e-4756-bbc6-c17248bfb27f",
   "metadata": {
    "tags": []
   },
   "source": [
    "# Optimization of isomer spectra\n"
   ]
  },
  {
   "cell_type": "code",
   "execution_count": null,
   "id": "97472660-6e06-4d2b-ac75-61021b56b1ab",
   "metadata": {
    "tags": []
   },
   "outputs": [],
   "source": [
    "# Read reference\n",
    "ref_all_df = pd.read_excel(\"../../Fulaoshi/230821_mzML/ref_all.xlsx\", sheet_name=\"concat\", index_col=0)\n",
    "ref_all_df['batch_sampleid'] = ref_all_df['batch'] + '/' + ref_all_df['sampleid']\n",
    "ref_all_df['bscp'] = ref_all_df['batch'] + '+' + ref_all_df['sampleid'].astype(str) + '+' + ref_all_df['CAS No.'] + '+' + ref_all_df['pos_neg']\n"
   ]
  },
  {
   "cell_type": "code",
   "execution_count": 46,
   "id": "1125c82c-dc6d-4fef-8742-cd68d0f00471",
   "metadata": {
    "tags": []
   },
   "outputs": [],
   "source": [
    "def get_bscpe_filename_list(bscp):\n",
    "    ev_list = ['1', '10', '100', '15', '20', '25', '30', '35', '40', '50', '60','70', '80', '204060']\n",
    "    return [f\"{bscp}+{ev}\" for ev in ev_list]\n",
    "bscpe_list = get_bscpe_filename_list(bscp_list[219])"
   ]
  },
  {
   "cell_type": "code",
   "execution_count": null,
   "id": "7d6641af-fc9d-4753-82c8-f2f4bdf44b8c",
   "metadata": {
    "tags": []
   },
   "outputs": [
    {
     "data": {
      "text/html": [
       "<div>\n",
       "<style scoped>\n",
       "    .dataframe tbody tr th:only-of-type {\n",
       "        vertical-align: middle;\n",
       "    }\n",
       "\n",
       "    .dataframe tbody tr th {\n",
       "        vertical-align: top;\n",
       "    }\n",
       "\n",
       "    .dataframe thead th {\n",
       "        text-align: right;\n",
       "    }\n",
       "</style>\n",
       "<table border=\"1\" class=\"dataframe\">\n",
       "  <thead>\n",
       "    <tr style=\"text-align: right;\">\n",
       "      <th></th>\n",
       "      <th>batch</th>\n",
       "      <th>sepuzhu</th>\n",
       "      <th>sampleid</th>\n",
       "      <th>Product Name</th>\n",
       "      <th>CAS No.</th>\n",
       "      <th>Formula</th>\n",
       "      <th>M.Wt</th>\n",
       "      <th>pos_neg</th>\n",
       "      <th>refer_RT</th>\n",
       "      <th>m/z</th>\n",
       "      <th>RT time</th>\n",
       "      <th>min</th>\n",
       "      <th>max</th>\n",
       "      <th>NL</th>\n",
       "      <th>bscp</th>\n",
       "    </tr>\n",
       "  </thead>\n",
       "  <tbody>\n",
       "    <tr>\n",
       "      <th>0</th>\n",
       "      <td>873_C18</td>\n",
       "      <td>C18</td>\n",
       "      <td>26393</td>\n",
       "      <td>2-(2-Methylbenzamido)acetic acid</td>\n",
       "      <td>42013-20-7</td>\n",
       "      <td>C10H11NO3</td>\n",
       "      <td>193.20</td>\n",
       "      <td>pos</td>\n",
       "      <td>1</td>\n",
       "      <td>194.08116</td>\n",
       "      <td>490.8</td>\n",
       "      <td>487.2</td>\n",
       "      <td>495.6</td>\n",
       "      <td>1.70E6</td>\n",
       "      <td>873_C18+26393+42013-20-7+pos</td>\n",
       "    </tr>\n",
       "    <tr>\n",
       "      <th>1</th>\n",
       "      <td>873_C18</td>\n",
       "      <td>C18</td>\n",
       "      <td>26393</td>\n",
       "      <td>2-(2-Phenylacetamido)acetic acid</td>\n",
       "      <td>500-98-1</td>\n",
       "      <td>C10H11NO3</td>\n",
       "      <td>193.20</td>\n",
       "      <td>pos</td>\n",
       "      <td>1</td>\n",
       "      <td>194.08116</td>\n",
       "      <td>474.6</td>\n",
       "      <td>470.4</td>\n",
       "      <td>480.0</td>\n",
       "      <td>7.41E6</td>\n",
       "      <td>873_C18+26393+500-98-1+pos</td>\n",
       "    </tr>\n",
       "    <tr>\n",
       "      <th>2</th>\n",
       "      <td>873_C18</td>\n",
       "      <td>C18</td>\n",
       "      <td>26396</td>\n",
       "      <td>L-Alloisoleucine</td>\n",
       "      <td>1509-34-8</td>\n",
       "      <td>C6H13NO2</td>\n",
       "      <td>131.17</td>\n",
       "      <td>pos</td>\n",
       "      <td>1</td>\n",
       "      <td>132.10190</td>\n",
       "      <td>118.2</td>\n",
       "      <td>109.8</td>\n",
       "      <td>123.6</td>\n",
       "      <td>7.02E6</td>\n",
       "      <td>873_C18+26396+1509-34-8+pos</td>\n",
       "    </tr>\n",
       "    <tr>\n",
       "      <th>3</th>\n",
       "      <td>873_C18</td>\n",
       "      <td>C18</td>\n",
       "      <td>26396</td>\n",
       "      <td>L-Leucine</td>\n",
       "      <td>61-90-5</td>\n",
       "      <td>C6H13NO2</td>\n",
       "      <td>131.17</td>\n",
       "      <td>pos</td>\n",
       "      <td>1</td>\n",
       "      <td>132.10190</td>\n",
       "      <td>133.8</td>\n",
       "      <td>127.2</td>\n",
       "      <td>140.4</td>\n",
       "      <td>5.80E6</td>\n",
       "      <td>873_C18+26396+61-90-5+pos</td>\n",
       "    </tr>\n",
       "    <tr>\n",
       "      <th>4</th>\n",
       "      <td>873_C18</td>\n",
       "      <td>C18</td>\n",
       "      <td>26397</td>\n",
       "      <td>5-Aminovaleric acid</td>\n",
       "      <td>660-88-8</td>\n",
       "      <td>C5H11NO2</td>\n",
       "      <td>117.15</td>\n",
       "      <td>pos</td>\n",
       "      <td>1</td>\n",
       "      <td>118.08625</td>\n",
       "      <td>54.0</td>\n",
       "      <td>51.0</td>\n",
       "      <td>57.0</td>\n",
       "      <td>2.79E7</td>\n",
       "      <td>873_C18+26397+660-88-8+pos</td>\n",
       "    </tr>\n",
       "  </tbody>\n",
       "</table>\n",
       "</div>"
      ],
      "text/plain": [
       "     batch sepuzhu sampleid                      Product Name     CAS No.  \\\n",
       "0  873_C18     C18    26393  2-(2-Methylbenzamido)acetic acid  42013-20-7   \n",
       "1  873_C18     C18    26393  2-(2-Phenylacetamido)acetic acid    500-98-1   \n",
       "2  873_C18     C18    26396                  L-Alloisoleucine   1509-34-8   \n",
       "3  873_C18     C18    26396                         L-Leucine     61-90-5   \n",
       "4  873_C18     C18    26397               5-Aminovaleric acid    660-88-8   \n",
       "\n",
       "     Formula    M.Wt pos_neg  refer_RT        m/z  RT time    min    max  \\\n",
       "0  C10H11NO3  193.20     pos         1  194.08116    490.8  487.2  495.6   \n",
       "1  C10H11NO3  193.20     pos         1  194.08116    474.6  470.4  480.0   \n",
       "2   C6H13NO2  131.17     pos         1  132.10190    118.2  109.8  123.6   \n",
       "3   C6H13NO2  131.17     pos         1  132.10190    133.8  127.2  140.4   \n",
       "4   C5H11NO2  117.15     pos         1  118.08625     54.0   51.0   57.0   \n",
       "\n",
       "       NL                          bscp  \n",
       "0  1.70E6  873_C18+26393+42013-20-7+pos  \n",
       "1  7.41E6    873_C18+26393+500-98-1+pos  \n",
       "2  7.02E6   873_C18+26396+1509-34-8+pos  \n",
       "3  5.80E6     873_C18+26396+61-90-5+pos  \n",
       "4  2.79E7    873_C18+26397+660-88-8+pos  "
      ]
     },
     "execution_count": 172,
     "metadata": {},
     "output_type": "execute_result"
    }
   ],
   "source": [
    "ref_isomeride_df = pd.read_excel('../../Fulaoshi/230821_mzML/ref_isomers.xlsx', index_col=0)\n",
    "ref_isomeride_df['bscp'] = ref_isomeride_df['batch'] + '+' + ref_isomeride_df['sampleid'].astype(str) + '+' + ref_isomeride_df['CAS No.'] + '+' + ref_isomeride_df['pos_neg']\n",
    "ref_isomeride_df.head()\n"
   ]
  },
  {
   "cell_type": "code",
   "execution_count": 175,
   "id": "e354c713-1af5-4ced-b1e7-09ac694f60a7",
   "metadata": {
    "tags": []
   },
   "outputs": [],
   "source": [
    "compound_dict = {}\n",
    "for i in ref_isomeride_df.index:\n",
    "    bscp,rt_min,rt_max = ref_isomeride_df.loc[i,[\"bscp\",\"min\",\"max\"]]\n",
    "    compound_dict[bscp] = [rt_min,rt_max]"
   ]
  },
  {
   "cell_type": "code",
   "execution_count": null,
   "id": "cb77dd28-8d19-45fc-8768-51d08dc4d2b4",
   "metadata": {
    "tags": []
   },
   "outputs": [],
   "source": [
    "def del_folderpath_ms2files(compound_folderpath):\n",
    "    compound_folderpath_files = os.listdir(compound_folderpath)\n",
    "    compound_folderpath_ms2files = [i for i in compound_folderpath_files if \"MS2\" in i]\n",
    "    for compound_folderpath_ms2file in compound_folderpath_ms2files:\n",
    "        try:\n",
    "            os.remove(f\"{compound_folderpath}/{compound_folderpath_ms2file}\")\n",
    "        except Exception as e:\n",
    "            print(f\"Error deleting file {compound_folderpath_ms2file}: {e}\")\n"
   ]
  },
  {
   "cell_type": "code",
   "execution_count": null,
   "id": "aa8c75f3-5913-4097-803e-aecec9dd7cac",
   "metadata": {
    "tags": []
   },
   "outputs": [],
   "source": [
    "for bscp, [lower_limit_rt, upper_limit_rt] in compound_dict.items():\n",
    "    mz = ref_isomeride_df[ref_isomeride_df[\"bscp\"] == bscp].iloc[0][\"m/z\"]\n",
    "    bscpe_list = get_bscpe_filename_list(bscp)\n",
    "    print(\"===\", bscp, mz, [lower_limit_rt, upper_limit_rt])\n",
    "    \n",
    "    for bscpe in bscpe_list:\n",
    "        batch, sampleid, cas, pos_neg, ev = bscpe.split(\"+\")\n",
    "        filename = f\"{sampleid}-NCE{ev}-{pos_neg}\"\n",
    "        if \"204060\" not in bscpe:\n",
    "            infile = f'{root_path}/{batch}/NCE2/{sampleid}/{filename}.mzML'  # '../../Fulaoshi/230602_mzML/NCE2/S1/S1-NCE1-pos.mzML'\n",
    "            pkl_root_path = f'{root_path}/{batch}/NCE_pkl/{sampleid}'\n",
    "        else:\n",
    "            infile = f'{root_path}/204060/{batch}/NCE/{filename}.mzML'  # '../../Fulaoshi/230602_mzML/NCE2/S1/S1-NCE1-pos.mzML'\n",
    "            pkl_root_path = f'{root_path}/204060/{batch}/NCE_pkl/{sampleid}'\n",
    "        \n",
    "        compound_root_path = f'{out_root_path}/{batch}/NCE_compound/{sampleid}'\n",
    "        compound_folder = f'{cas}_NCE{ev}_{pos_neg}'  # 83207-58-3_NCE1_neg\n",
    "        compound_folderpath = f'{compound_root_path}/{compound_folder}'\n",
    "        \n",
    "        del_folderpath_ms2files(compound_folderpath)\n",
    "\n",
    "        tic_pkl = f'{pkl_root_path}/{filename}.pkl'  # '../../Fulaoshi/230602_mzML/NCE_pkl/S1/S1-NCE1-pos.pkl'\n",
    "        tic_list = mzbatch.get_TIC_from_File(infile, tic_pkl)\n",
    "        tic_df = pd.DataFrame(tic_list, columns=['ID', 'RT', 'Polarity', 'MSlevel', 'MS1_id', 'MS1_RT', 'pecursor'])\n",
    "        tic_MS2_df = tic_df[tic_df['MSlevel'] == 2]\n",
    "        \n",
    "        temp_tic_MS2_df = tic_MS2_df[tic_MS2_df['pecursor'].apply(lambda x: mzbatch.less_5ppm(mzbatch.cal_ppm(mz, x)))]\n",
    "        temp_tic_MS2_df = temp_tic_MS2_df[(temp_tic_MS2_df['RT'] >= lower_limit_rt) & (temp_tic_MS2_df['RT'] <= upper_limit_rt)]\n",
    "        \n",
    "        if temp_tic_MS2_df.shape[0] == 0:\n",
    "            print(bscpe, \" no matches found\")\n",
    "            continue\n",
    "        \n",
    "        for temp_tic_MS2_index in temp_tic_MS2_df.index:\n",
    "            tic_ID = temp_tic_MS2_df.loc[temp_tic_MS2_index, 'ID']  # ID from the df, starting from 1\n",
    "            tic_RT = round(temp_tic_MS2_df.loc[temp_tic_MS2_index, 'RT'], 2)\n",
    "            MS2_file = '{}/{}_MS2_{}_{}.csv'.format(compound_folderpath, compound_folder, tic_ID, tic_RT)\n",
    "            \n",
    "            mz_uplimit = mzbatch.get_mz_uplimit(mz)\n",
    "            one_MS2_df = pd.DataFrame(tic_list[temp_tic_MS2_index]['peaks'], columns=['Mass', 'Intensity'])\n",
    "            one_MS2_df = one_MS2_df[one_MS2_df['Mass'] <= mz_uplimit]\n",
    "            one_MS2_df.to_csv(MS2_file)\n",
    "            # print(MS2_file)\n",
    "\n",
    "    # break\n"
   ]
  },
  {
   "cell_type": "markdown",
   "id": "f9342294-c502-48f2-9f1d-07c2bdce6ef7",
   "metadata": {
    "tags": []
   },
   "source": [
    "# Check that the log_record for each sampleid is present and not empty"
   ]
  },
  {
   "cell_type": "code",
   "execution_count": null,
   "id": "948c87f2-4cf1-47db-929f-533f961ef322",
   "metadata": {
    "tags": []
   },
   "outputs": [
    {
     "name": "stdout",
     "output_type": "stream",
     "text": [
      "不存在: 3545_C18/S47 ==  277  == log_record_S47.csv\n"
     ]
    }
   ],
   "source": [
    "for batch_sampleid in batch_sampleid_list:\n",
    "    batch, sampleid = batch_sampleid.split('/')\n",
    "    \n",
    "    log_record_file = f'{out_root_path}/{batch}/NCE_log_record/log_record_{sampleid}.csv'\n",
    "    if not os.path.exists(log_record_file):\n",
    "        print(f'Does not exist: {batch}/{sampleid} == ', batch_sampleid_list.index(f\"{batch}/{sampleid}\"), f' == log_record_{sampleid}.csv')\n",
    "        continue\n",
    "    one_log_record_df = pd.read_csv(f'{log_record_file}', index_col=0)\n",
    "    if one_log_record_df.shape[0] == 0:\n",
    "        print(f'Empty: {batch} == log_record_{sampleid}.csv')\n"
   ]
  },
  {
   "cell_type": "markdown",
   "id": "2a7369eb-af93-4a1c-b19b-60ad09c05ad1",
   "metadata": {},
   "source": [
    "# Merge the data of 13 NCEs and NCE 204060"
   ]
  },
  {
   "cell_type": "code",
   "execution_count": null,
   "id": "ad54bc32-6e34-4522-a836-ebf5531adbfb",
   "metadata": {
    "tags": []
   },
   "outputs": [
    {
     "name": "stdout",
     "output_type": "stream",
     "text": [
      "700_Amide\n",
      "700_C18\n",
      "873_Amide\n",
      "873_C18\n",
      "3545_Amide\n",
      "3545_C18\n",
      "BC_Amide\n",
      "BC_C18\n"
     ]
    }
   ],
   "source": [
    "for batch in batch_list:\n",
    "    print(batch)\n",
    "    inpath = f'../../Fulaoshi/230821_mzML_res/204060/{batch}/NCE_compound/'\n",
    "    sampleid_folder_list = os.listdir(inpath)\n",
    "    for sampleid_folder in sampleid_folder_list:\n",
    "        folder_inpath = f'{inpath}/{sampleid_folder}'\n",
    "        com_folder_list = os.listdir(folder_inpath)\n",
    "        for com_folder in com_folder_list:\n",
    "            com_inpath = f'{folder_inpath}/{com_folder}'\n",
    "            com_outpath = f'../../Fulaoshi/230821_mzML_res/rerun240410/{batch}/NCE_compound/{sampleid_folder}/{com_folder}'\n",
    "            \n",
    "            # Copy only if the 204060 file does not exist\n",
    "            if not os.path.exists(com_outpath):\n",
    "                shutil.copytree(com_inpath, com_outpath)\n",
    "                # print(f'Does not exist: {com_outpath}')\n",
    "            # Incorrect deletion code\n",
    "            # if os.path.exists(com_outpath):\n",
    "            #     shutil.rmtree(com_outpath)\n",
    "                # print(com_outpath)\n",
    "            # break\n",
    "        # break\n",
    "    # break\n"
   ]
  },
  {
   "cell_type": "code",
   "execution_count": null,
   "id": "a372f359-d799-418d-99e2-1275e880c553",
   "metadata": {},
   "outputs": [],
   "source": []
  }
 ],
 "metadata": {
  "kernelspec": {
   "display_name": "Python 3 (ipykernel)",
   "language": "python",
   "name": "python3"
  },
  "language_info": {
   "codemirror_mode": {
    "name": "ipython",
    "version": 3
   },
   "file_extension": ".py",
   "mimetype": "text/x-python",
   "name": "python",
   "nbconvert_exporter": "python",
   "pygments_lexer": "ipython3",
   "version": "3.8.13"
  }
 },
 "nbformat": 4,
 "nbformat_minor": 5
}
